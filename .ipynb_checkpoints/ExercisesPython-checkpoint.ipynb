{
 "cells": [
  {
   "cell_type": "markdown",
   "metadata": {},
   "source": [
    "# Level 1\n",
    "## Q1\n",
    "Write a program which will find all such numbers which are divisible by 7 but are not a multiple of 5,\n",
    "between 2000 and 3200 (both included)."
   ]
  },
  {
   "cell_type": "code",
   "execution_count": 1,
   "metadata": {},
   "outputs": [],
   "source": [
    "good_numbers = []\n",
    "for i in range(2000, 3200):\n",
    "    if (i % 7 == 0) and (i % 5 != 0):\n",
    "        good_numbers.append(str(i))"
   ]
  },
  {
   "cell_type": "code",
   "execution_count": 2,
   "metadata": {},
   "outputs": [
    {
     "name": "stdout",
     "output_type": "stream",
     "text": [
      "2002, 2009, 2016, 2023, 2037, 2044, 2051, 2058, 2072, 2079, 2086, 2093, 2107, 2114, 2121, 2128, 2142, 2149, 2156, 2163, 2177, 2184, 2191, 2198, 2212, 2219, 2226, 2233, 2247, 2254, 2261, 2268, 2282, 2289, 2296, 2303, 2317, 2324, 2331, 2338, 2352, 2359, 2366, 2373, 2387, 2394, 2401, 2408, 2422, 2429, 2436, 2443, 2457, 2464, 2471, 2478, 2492, 2499, 2506, 2513, 2527, 2534, 2541, 2548, 2562, 2569, 2576, 2583, 2597, 2604, 2611, 2618, 2632, 2639, 2646, 2653, 2667, 2674, 2681, 2688, 2702, 2709, 2716, 2723, 2737, 2744, 2751, 2758, 2772, 2779, 2786, 2793, 2807, 2814, 2821, 2828, 2842, 2849, 2856, 2863, 2877, 2884, 2891, 2898, 2912, 2919, 2926, 2933, 2947, 2954, 2961, 2968, 2982, 2989, 2996, 3003, 3017, 3024, 3031, 3038, 3052, 3059, 3066, 3073, 3087, 3094, 3101, 3108, 3122, 3129, 3136, 3143, 3157, 3164, 3171, 3178, 3192, 3199\n"
     ]
    }
   ],
   "source": [
    "print (', '.join(good_numbers))"
   ]
  },
  {
   "cell_type": "markdown",
   "metadata": {},
   "source": [
    "## Q2\n",
    "Write a program which can compute the factorial of a given numbers.\n",
    "The results should be printed in a comma-separated sequence on a single line.\n",
    "\n",
    "Suppose the following input is supplied to the program:\n",
    "8\n",
    "\n",
    "Then, the output should be:\n",
    "40320"
   ]
  },
  {
   "cell_type": "code",
   "execution_count": 3,
   "metadata": {},
   "outputs": [],
   "source": [
    "def fact(x):\n",
    "    if x == 0 or x == 1:\n",
    "        return 1\n",
    "    sum = 1\n",
    "    while (x != 1):\n",
    "        sum *= x\n",
    "        x -= 1\n",
    "    return sum"
   ]
  },
  {
   "cell_type": "code",
   "execution_count": 4,
   "metadata": {},
   "outputs": [
    {
     "name": "stdout",
     "output_type": "stream",
     "text": [
      "Enter number to fact: 8\n"
     ]
    },
    {
     "data": {
      "text/plain": [
       "40320"
      ]
     },
     "execution_count": 4,
     "metadata": {},
     "output_type": "execute_result"
    }
   ],
   "source": [
    "fact(int(input(\"Enter number to fact: \")))"
   ]
  },
  {
   "cell_type": "markdown",
   "metadata": {},
   "source": [
    "## Q3\n",
    "With a given integral number n, write a program to generate a dictionary that contains (i, i*i) such that is an integral number between 1 and n (both included). and then the program should print the dictionary.\n",
    "\n",
    "Suppose the following input is supplied to the program:\n",
    "8\n",
    "\n",
    "Then, the output should be:\n",
    "\n",
    "{ 1: 1, 2: 4, 3: 9, 4: 16, 5: 25, 6: 36, 7: 49, 8: 64 }"
   ]
  },
  {
   "cell_type": "code",
   "execution_count": 5,
   "metadata": {},
   "outputs": [],
   "source": [
    "def make_dict(x):\n",
    "    dict = {i: i*i for i in range(1, x + 1)}\n",
    "    return dict"
   ]
  },
  {
   "cell_type": "code",
   "execution_count": 6,
   "metadata": {},
   "outputs": [
    {
     "name": "stdout",
     "output_type": "stream",
     "text": [
      "Enter number to dict: 8\n"
     ]
    },
    {
     "data": {
      "text/plain": [
       "{1: 1, 2: 4, 3: 9, 4: 16, 5: 25, 6: 36, 7: 49, 8: 64}"
      ]
     },
     "execution_count": 6,
     "metadata": {},
     "output_type": "execute_result"
    }
   ],
   "source": [
    "make_dict(int(input(\"Enter number to dict: \")))"
   ]
  },
  {
   "cell_type": "markdown",
   "metadata": {},
   "source": [
    "## Q4\n",
    "Write a program which accepts a sequence of comma-separated numbers from console and generate a list and a tuple which contains every number.\n",
    "\n",
    "Suppose the following input is supplied to the program:\n",
    "\n",
    "34, 67, 55, 33, 12, 98\n",
    "\n",
    "Then, the output should be:\n",
    "\n",
    "\\[ 34, 67, 55, 33, 12, 98 \\]\n",
    "\n",
    "( 34, 67, 55, 33, 12, 98 )"
   ]
  },
  {
   "cell_type": "code",
   "execution_count": 7,
   "metadata": {},
   "outputs": [],
   "source": [
    "def make_list_and_tuple(s):\n",
    "    l = list(map(int, s.split(', ')))\n",
    "    t = tuple(l)\n",
    "    return l, t"
   ]
  },
  {
   "cell_type": "code",
   "execution_count": 8,
   "metadata": {},
   "outputs": [
    {
     "name": "stdout",
     "output_type": "stream",
     "text": [
      "Enter numbers: 34, 67, 55, 33, 12, 98\n"
     ]
    },
    {
     "data": {
      "text/plain": [
       "([34, 67, 55, 33, 12, 98], (34, 67, 55, 33, 12, 98))"
      ]
     },
     "execution_count": 8,
     "metadata": {},
     "output_type": "execute_result"
    }
   ],
   "source": [
    "make_list_and_tuple(input(\"Enter numbers: \"))"
   ]
  },
  {
   "cell_type": "markdown",
   "metadata": {},
   "source": [
    "## Q5\n",
    "Define a class which has at least two methods:\n",
    "- getString: to get a string from console input\n",
    "- printString: to print the string in upper case.\n",
    "\n",
    "Also please include simple test function to test the class methods."
   ]
  },
  {
   "cell_type": "code",
   "execution_count": 9,
   "metadata": {},
   "outputs": [],
   "source": [
    "class TestQ5:\n",
    "    def __init__(self):\n",
    "        self.str = \"\"\n",
    "    def getString(self):\n",
    "        self.str = input(\"Enter string: \")\n",
    "    def printString(self):\n",
    "        print(self.str.upper())\n",
    "    def test(self):\n",
    "        self.getString()\n",
    "        self.printString()"
   ]
  },
  {
   "cell_type": "code",
   "execution_count": 10,
   "metadata": {},
   "outputs": [
    {
     "name": "stdout",
     "output_type": "stream",
     "text": [
      "Enter string: Hello world\n",
      "HELLO WORLD\n"
     ]
    }
   ],
   "source": [
    "testQ5 = TestQ5()\n",
    "testQ5.test()"
   ]
  },
  {
   "cell_type": "markdown",
   "metadata": {},
   "source": [
    "# Level 2\n",
    "## Q6\n",
    "Write a program that calculates and prints the value according to the given formula:\n",
    "- Q = Square root of [(2 * C * D)/H]\n",
    "Following are the fixed values of C and H:\n",
    "- C is 50. H is 30.\n",
    "- D is the variable whose values should be input to your program in a comma-separated sequence.\n",
    "\n",
    "Example:\n",
    "\n",
    "Let us assume the following comma separated input sequence is given to the program:\n",
    "- 100, 150, 180\n",
    "\n",
    "The output of the program should be:\n",
    "- 18, 22, 24"
   ]
  },
  {
   "cell_type": "code",
   "execution_count": 105,
   "metadata": {},
   "outputs": [],
   "source": [
    "import math"
   ]
  },
  {
   "cell_type": "code",
   "execution_count": 12,
   "metadata": {},
   "outputs": [],
   "source": [
    "def func_q6(s):\n",
    "    l_in = list(map(int, s.split(\", \")))\n",
    "    l_out = []\n",
    "    for e in l_in:\n",
    "        l_out.append(int(math.sqrt(2 * 50 * e / 30)))\n",
    "    return l_out"
   ]
  },
  {
   "cell_type": "code",
   "execution_count": 13,
   "metadata": {},
   "outputs": [
    {
     "name": "stdout",
     "output_type": "stream",
     "text": [
      "Enter numbers to calculate: 100, 150, 180\n"
     ]
    },
    {
     "data": {
      "text/plain": [
       "[18, 22, 24]"
      ]
     },
     "execution_count": 13,
     "metadata": {},
     "output_type": "execute_result"
    }
   ],
   "source": [
    "func_q6(input(\"Enter numbers to calculate: \"))"
   ]
  },
  {
   "cell_type": "markdown",
   "metadata": {},
   "source": [
    "## Q7\n",
    "Write a program which takes 2 digits, X,Y as input and generates a 2-dimensional array. The element value in the i-th row and j-th column of the array should be i*j.\n",
    "\n",
    "Note: i = 0, 1.., X-1; j = 0, 1.., Y-1\n",
    "\n",
    "Example:\n",
    "\n",
    "Suppose the following inputs are given to the program:\n",
    "- 3,5\n",
    "\n",
    "Then, the output of the program should be:\n",
    "- \\[ \\[ 0, 0, 0, 0, 0 \\], \\[ 0, 1, 2, 3, 4 \\], \\[ 0, 2, 4, 6, 8 \\] \\] "
   ]
  },
  {
   "cell_type": "code",
   "execution_count": 14,
   "metadata": {},
   "outputs": [],
   "source": [
    "def func_q7(x, y):\n",
    "    arr = [ [i * j for j in range(y)] for i in range(x)]\n",
    "    return arr"
   ]
  },
  {
   "cell_type": "code",
   "execution_count": 15,
   "metadata": {},
   "outputs": [
    {
     "name": "stdout",
     "output_type": "stream",
     "text": [
      "Enter X: 3\n",
      "Enter Y: 5\n"
     ]
    },
    {
     "data": {
      "text/plain": [
       "[[0, 0, 0, 0, 0], [0, 1, 2, 3, 4], [0, 2, 4, 6, 8]]"
      ]
     },
     "execution_count": 15,
     "metadata": {},
     "output_type": "execute_result"
    }
   ],
   "source": [
    "func_q7(int(input(\"Enter X: \")), int(input(\"Enter Y: \")))"
   ]
  },
  {
   "cell_type": "markdown",
   "metadata": {},
   "source": [
    "## Q8\n",
    "Write a program that accepts a comma-separated sequence of words as input and prints the words in a comma-separated sequence after sorting them alphabetically.\n",
    "\n",
    "Suppose the following input is supplied to the program:\n",
    "- without, hello, bag, world\n",
    "\n",
    "Then, the output should be:\n",
    "- bag, hello, without, world"
   ]
  },
  {
   "cell_type": "code",
   "execution_count": 16,
   "metadata": {},
   "outputs": [],
   "source": [
    "def func_q8(s):\n",
    "    l = s.split(', ')\n",
    "    l.sort()\n",
    "    return l"
   ]
  },
  {
   "cell_type": "code",
   "execution_count": 17,
   "metadata": {},
   "outputs": [
    {
     "name": "stdout",
     "output_type": "stream",
     "text": [
      "Enter words: without, hello, bag, world\n"
     ]
    },
    {
     "data": {
      "text/plain": [
       "'bag, hello, without, world'"
      ]
     },
     "execution_count": 17,
     "metadata": {},
     "output_type": "execute_result"
    }
   ],
   "source": [
    "', '.join(func_q8(input(\"Enter words: \")))"
   ]
  },
  {
   "cell_type": "markdown",
   "metadata": {},
   "source": [
    "## Q9\n",
    "Write a program that accepts sequence of lines as input and prints the lines after making all characters in the sentence capitalized.\n",
    "\n",
    "Suppose the following input is supplied to the program:\n",
    "- Hello world\n",
    "- Practice makes perfect\n",
    "\n",
    "Then, the output should be:\n",
    "- HELLO WORLD\n",
    "- PRACTICE MAKES PERFECT"
   ]
  },
  {
   "cell_type": "code",
   "execution_count": 18,
   "metadata": {},
   "outputs": [],
   "source": [
    "def func_q9():\n",
    "    l_s = []\n",
    "    while True:\n",
    "        s = input()\n",
    "        if not s:\n",
    "            break\n",
    "        l_s.append(s.upper())\n",
    "    for s in l_s:\n",
    "        print(s)"
   ]
  },
  {
   "cell_type": "code",
   "execution_count": 19,
   "metadata": {},
   "outputs": [
    {
     "name": "stdout",
     "output_type": "stream",
     "text": [
      "Hello world\n",
      "Practice makes perfect\n",
      "Something from me\n",
      "\n",
      "HELLO WORLD\n",
      "PRACTICE MAKES PERFECT\n",
      "SOMETHING FROM ME\n"
     ]
    }
   ],
   "source": [
    "func_q9()"
   ]
  },
  {
   "cell_type": "markdown",
   "metadata": {},
   "source": [
    "## Q10\n",
    "Write a program that accepts a sequence of whitespace separated words as input and prints the words after removing all duplicate words and sorting them alphanumerically.\n",
    "\n",
    "Suppose the following input is supplied to the program:\n",
    "- hello world and practice makes perfect and hello world again\n",
    "\n",
    "Then, the output should be:\n",
    "- again and hello makes perfect practice world"
   ]
  },
  {
   "cell_type": "code",
   "execution_count": 22,
   "metadata": {},
   "outputs": [],
   "source": [
    "def func_q10(s):\n",
    "    st = set(s.split(' '))\n",
    "    return st"
   ]
  },
  {
   "cell_type": "code",
   "execution_count": 25,
   "metadata": {},
   "outputs": [
    {
     "name": "stdout",
     "output_type": "stream",
     "text": [
      "Enter words: hello world and practice makes perfect and hello world again\n"
     ]
    },
    {
     "data": {
      "text/plain": [
       "{'again', 'and', 'hello', 'makes', 'perfect', 'practice', 'world'}"
      ]
     },
     "execution_count": 25,
     "metadata": {},
     "output_type": "execute_result"
    }
   ],
   "source": [
    "func_q10(input(\"Enter words: \"))"
   ]
  },
  {
   "cell_type": "markdown",
   "metadata": {},
   "source": [
    "## Q11\n",
    "Write a program which accepts a sequence of comma separated 4 digit binary numbers as its input and then check whether they are divisible by 5 or not. The numbers that are divisible by 5 are to be printed in a comma separated sequence.\n",
    "\n",
    "Example:\n",
    "- 0100, 0011, 1010, 1001\n",
    "\n",
    "Then the output should be:\n",
    "- 1010\n",
    "\n",
    "Notes: Assume the data is input by console."
   ]
  },
  {
   "cell_type": "code",
   "execution_count": 35,
   "metadata": {},
   "outputs": [],
   "source": [
    "def func_q11(s):\n",
    "    l = [int(elem, 2) for elem in s.split(', ')]\n",
    "    l_out = []\n",
    "    for elem in l:\n",
    "        if elem % 5 == 0:\n",
    "            l_out.append(elem)\n",
    "    return l_out"
   ]
  },
  {
   "cell_type": "code",
   "execution_count": 37,
   "metadata": {},
   "outputs": [
    {
     "name": "stdout",
     "output_type": "stream",
     "text": [
      "Enter binary numbers: 0100, 0011, 1010, 1001, 0101\n",
      "1010\n",
      "101\n"
     ]
    }
   ],
   "source": [
    "for elem in func_q11(input(\"Enter binary numbers: \")):\n",
    "    print(\"{0:b}\".format(elem))"
   ]
  },
  {
   "cell_type": "markdown",
   "metadata": {},
   "source": [
    "## Q12\n",
    "Write a program, which will find all such numbers between 1000 and 3000 (both included) such that each digit of the number is an even number.\n",
    "\n",
    "The numbers obtained should be printed in a comma-separated sequence on a single line."
   ]
  },
  {
   "cell_type": "code",
   "execution_count": 7,
   "metadata": {},
   "outputs": [],
   "source": [
    "def func_q12():\n",
    "    def is_all_numbers_even(x):\n",
    "        is_ok = True\n",
    "        for ch in str(x):\n",
    "            if int(ch) % 2 != 0:\n",
    "                is_ok = False\n",
    "                break\n",
    "        return is_ok\n",
    "    l = []\n",
    "    for num in range(1000, 3001):\n",
    "        if is_all_numbers_even(num):\n",
    "            l.append(num)\n",
    "    print(\", \".join(list(map(str, l))))"
   ]
  },
  {
   "cell_type": "code",
   "execution_count": 8,
   "metadata": {},
   "outputs": [
    {
     "name": "stdout",
     "output_type": "stream",
     "text": [
      "2000, 2002, 2004, 2006, 2008, 2020, 2022, 2024, 2026, 2028, 2040, 2042, 2044, 2046, 2048, 2060, 2062, 2064, 2066, 2068, 2080, 2082, 2084, 2086, 2088, 2200, 2202, 2204, 2206, 2208, 2220, 2222, 2224, 2226, 2228, 2240, 2242, 2244, 2246, 2248, 2260, 2262, 2264, 2266, 2268, 2280, 2282, 2284, 2286, 2288, 2400, 2402, 2404, 2406, 2408, 2420, 2422, 2424, 2426, 2428, 2440, 2442, 2444, 2446, 2448, 2460, 2462, 2464, 2466, 2468, 2480, 2482, 2484, 2486, 2488, 2600, 2602, 2604, 2606, 2608, 2620, 2622, 2624, 2626, 2628, 2640, 2642, 2644, 2646, 2648, 2660, 2662, 2664, 2666, 2668, 2680, 2682, 2684, 2686, 2688, 2800, 2802, 2804, 2806, 2808, 2820, 2822, 2824, 2826, 2828, 2840, 2842, 2844, 2846, 2848, 2860, 2862, 2864, 2866, 2868, 2880, 2882, 2884, 2886, 2888\n"
     ]
    }
   ],
   "source": [
    "func_q12()"
   ]
  },
  {
   "cell_type": "markdown",
   "metadata": {},
   "source": [
    "## Q13\n",
    "Write a program that accepts a sentence and calculate the number of letters and digits.\n",
    "\n",
    "Suppose the following input is supplied to the program:\n",
    "- hello world! 123\n",
    "\n",
    "Then, the output should be:\n",
    "- LETTERS 10\n",
    "- DIGITS 3"
   ]
  },
  {
   "cell_type": "code",
   "execution_count": 15,
   "metadata": {},
   "outputs": [],
   "source": [
    "def func_q13(s):\n",
    "    count_of_letters = 0\n",
    "    cout_of_digits = 0\n",
    "    for ch in s:\n",
    "        if ch.isalpha():\n",
    "            count_of_letters += 1\n",
    "        if ch.isdigit():\n",
    "            cout_of_digits += 1\n",
    "    return count_of_letters, cout_of_digits"
   ]
  },
  {
   "cell_type": "code",
   "execution_count": 16,
   "metadata": {},
   "outputs": [
    {
     "name": "stdout",
     "output_type": "stream",
     "text": [
      "Enter sentence: hello world! 123\n"
     ]
    },
    {
     "data": {
      "text/plain": [
       "(10, 3)"
      ]
     },
     "execution_count": 16,
     "metadata": {},
     "output_type": "execute_result"
    }
   ],
   "source": [
    "func_q13(input(\"Enter sentence: \"))"
   ]
  },
  {
   "cell_type": "markdown",
   "metadata": {},
   "source": [
    "## Q14\n",
    "Write a program that accepts a sentence and calculate the number of upper case letters and lower case letters.\n",
    "\n",
    "Suppose the following input is supplied to the program:\n",
    "- Hello world!\n",
    "\n",
    "Then, the output should be:\n",
    "- UPPER CASE 1\n",
    "- LOWER CASE 9"
   ]
  },
  {
   "cell_type": "code",
   "execution_count": 22,
   "metadata": {},
   "outputs": [],
   "source": [
    "def func_q14(s):\n",
    "    count_of_upper = 0\n",
    "    count_of_lower = 0\n",
    "    for ch in s:\n",
    "        if ch.isalpha():\n",
    "            if ch.isupper():\n",
    "                count_of_upper += 1\n",
    "            else:\n",
    "                count_of_lower += 1\n",
    "    return count_of_upper, count_of_lower"
   ]
  },
  {
   "cell_type": "code",
   "execution_count": 23,
   "metadata": {},
   "outputs": [
    {
     "name": "stdout",
     "output_type": "stream",
     "text": [
      "Enter sentence: Hello world!\n"
     ]
    },
    {
     "data": {
      "text/plain": [
       "(1, 9)"
      ]
     },
     "execution_count": 23,
     "metadata": {},
     "output_type": "execute_result"
    }
   ],
   "source": [
    "func_q14(input(\"Enter sentence: \"))"
   ]
  },
  {
   "cell_type": "markdown",
   "metadata": {},
   "source": [
    "## Q15\n",
    "Write a program that computes the value of a+aa+aaa+aaaa with a given digit as the value of a.\n",
    "\n",
    "Suppose the following input is supplied to the program:\n",
    "- 9\n",
    "\n",
    "Then, the output should be:\n",
    "- 11106"
   ]
  },
  {
   "cell_type": "code",
   "execution_count": 24,
   "metadata": {},
   "outputs": [],
   "source": [
    "def func_q15(s):\n",
    "    res = int(s) + int(s*2) + int(s*3) + int(s*4)\n",
    "    return res"
   ]
  },
  {
   "cell_type": "code",
   "execution_count": 28,
   "metadata": {},
   "outputs": [
    {
     "name": "stdout",
     "output_type": "stream",
     "text": [
      "Enter number: 9\n"
     ]
    },
    {
     "data": {
      "text/plain": [
       "11106"
      ]
     },
     "execution_count": 28,
     "metadata": {},
     "output_type": "execute_result"
    }
   ],
   "source": [
    "func_q15(input(\"Enter number: \"))"
   ]
  },
  {
   "cell_type": "markdown",
   "metadata": {},
   "source": [
    "## Q16\n",
    "Use a list comprehension to square each odd number in a list. The list is input by a sequence of comma-separated numbers.\n",
    "\n",
    "Suppose the following input is supplied to the program:\n",
    "- 1, 2, 3, 4, 5, 6, 7, 8, 9\n",
    "\n",
    "Then, the output should be:\n",
    "- 1, 3, 5, 7, 9"
   ]
  },
  {
   "cell_type": "code",
   "execution_count": 29,
   "metadata": {},
   "outputs": [],
   "source": [
    "def func_q16(s):\n",
    "    l = list(filter(lambda x: x % 2 != 0, map(int, s.split(', '))))\n",
    "    return l"
   ]
  },
  {
   "cell_type": "code",
   "execution_count": 30,
   "metadata": {},
   "outputs": [
    {
     "name": "stdout",
     "output_type": "stream",
     "text": [
      "Enter numbers: 1, 2, 3, 4, 5, 6, 7, 8, 9\n"
     ]
    },
    {
     "data": {
      "text/plain": [
       "[1, 3, 5, 7, 9]"
      ]
     },
     "execution_count": 30,
     "metadata": {},
     "output_type": "execute_result"
    }
   ],
   "source": [
    "func_q16(input(\"Enter numbers: \"))"
   ]
  },
  {
   "cell_type": "markdown",
   "metadata": {},
   "source": [
    "## Q17\n",
    "Write a program that computes the net amount of a bank account based a transaction log from console input. The transaction log format is shown as following:\n",
    "- D 100\n",
    "- W 200\n",
    "\n",
    "D means deposit while W means withdrawal.\n",
    "\n",
    "Suppose the following input is supplied to the program:\n",
    "- D 300\n",
    "- D 300\n",
    "- W 200\n",
    "- D 100\n",
    "\n",
    "Then, the output should be:\n",
    "- 500"
   ]
  },
  {
   "cell_type": "code",
   "execution_count": 32,
   "metadata": {},
   "outputs": [],
   "source": [
    "def func_q17():\n",
    "    account = 0\n",
    "    while True:\n",
    "        s = input()\n",
    "        if not s:\n",
    "            break\n",
    "        if s[0] == 'D':\n",
    "            account += int(s[2:])\n",
    "        else:\n",
    "            account -= int(s[2:])\n",
    "    return account"
   ]
  },
  {
   "cell_type": "code",
   "execution_count": 33,
   "metadata": {},
   "outputs": [
    {
     "name": "stdout",
     "output_type": "stream",
     "text": [
      "D 300\n",
      "D 300\n",
      "W 200\n",
      "D 100\n",
      "\n"
     ]
    },
    {
     "data": {
      "text/plain": [
       "500"
      ]
     },
     "execution_count": 33,
     "metadata": {},
     "output_type": "execute_result"
    }
   ],
   "source": [
    "func_q17()"
   ]
  },
  {
   "cell_type": "markdown",
   "metadata": {},
   "source": [
    "# Level 3\n",
    "## Q18\n",
    "A website requires the users to input username and password to register. Write a program to check the validity of password input by users.\n",
    "\n",
    "Following are the criteria for checking the password:\n",
    "1. At least 1 letter between \\[a-z\\]\n",
    "2. At least 1 number between \\[0-9\\]\n",
    "1. At least 1 letter between \\[A-Z\\]\n",
    "3. At least 1 character from \\[\\$#@\\]\n",
    "4. Minimum length of transaction password: 6\n",
    "5. Maximum length of transaction password: 12\n",
    "\n",
    "Your program should accept a sequence of comma separated passwords and will check them according to the above criteria. Passwords that match the criteria are to be printed, each separated by a comma.\n",
    "\n",
    "Example:\n",
    "\n",
    "If the following passwords are given as input to the program:\n",
    "- ABd1234@1, a F1#, 2w3E*, 2We3345\n",
    "\n",
    "Then, the output of the program should be:\n",
    "- ABd1234@1"
   ]
  },
  {
   "cell_type": "code",
   "execution_count": 35,
   "metadata": {},
   "outputs": [],
   "source": [
    "import re"
   ]
  },
  {
   "cell_type": "code",
   "execution_count": 75,
   "metadata": {},
   "outputs": [],
   "source": [
    "def func_q18(s):\n",
    "    l_in = s.split(', ')\n",
    "    l_out = []\n",
    "    for el in l_in:\n",
    "        if len(el) > 5 and len(el) < 13:\n",
    "            if re.search(r'[$#@]+', el) and re.search(r'[0-9]+', el): \n",
    "                if re.search(r'[a-z]+', el) and re.search(r'[A-Z]+', el):            \n",
    "                    l_out.append(el)\n",
    "    return l_out"
   ]
  },
  {
   "cell_type": "code",
   "execution_count": 76,
   "metadata": {},
   "outputs": [
    {
     "name": "stdout",
     "output_type": "stream",
     "text": [
      "Enter passwords: ABd1234@1, a F1#, 2w3E*, 2We3345\n"
     ]
    },
    {
     "data": {
      "text/plain": [
       "['ABd1234@1']"
      ]
     },
     "execution_count": 76,
     "metadata": {},
     "output_type": "execute_result"
    }
   ],
   "source": [
    "func_q18(input(\"Enter passwords: \"))"
   ]
  },
  {
   "cell_type": "markdown",
   "metadata": {},
   "source": [
    "## Q19\n",
    "You are required to write a program to sort the (name, age, height) tuples by ascending order where name is string, age and height are numbers. The tuples are input by console. The sort criteria is:\n",
    "1. Sort based on name\n",
    "2. Then sort based on age\n",
    "3. Then sort by score\n",
    "\n",
    "The priority is that name > age > score.\n",
    "\n",
    "If the following tuples are given as input to the program:\n",
    "- Tom, 19, 80\n",
    "- John, 20, 90\n",
    "- Jony, 17, 91\n",
    "- Jony, 17, 93\n",
    "- Json, 21, 85\n",
    "\n",
    "Then, the output of the program should be:\n",
    "- \\[('John', '20', '90'), ('Jony', '17', '91'), ('Jony', '17', '93'), ('Json', '21', '85'), ('Tom', '19', '80')\\]"
   ]
  },
  {
   "cell_type": "code",
   "execution_count": 78,
   "metadata": {},
   "outputs": [],
   "source": [
    "from operator import itemgetter"
   ]
  },
  {
   "cell_type": "code",
   "execution_count": 83,
   "metadata": {},
   "outputs": [],
   "source": [
    "def func_q19():\n",
    "    l = []\n",
    "    while True:\n",
    "        s = input()\n",
    "        if not s:\n",
    "            break\n",
    "        t = tuple(s.split(', '))\n",
    "        l.append(t)\n",
    "    sorted(l, key = itemgetter(0, 1, 2))\n",
    "    return l"
   ]
  },
  {
   "cell_type": "code",
   "execution_count": 84,
   "metadata": {},
   "outputs": [
    {
     "name": "stdout",
     "output_type": "stream",
     "text": [
      "Tom, 19, 80\n",
      "John, 20, 90\n",
      "Jony, 17, 91\n",
      "Jony, 17, 93\n",
      "Json, 21, 85\n",
      "\n"
     ]
    },
    {
     "data": {
      "text/plain": [
       "[('Tom', '19', '80'),\n",
       " ('John', '20', '90'),\n",
       " ('Jony', '17', '91'),\n",
       " ('Jony', '17', '93'),\n",
       " ('Json', '21', '85')]"
      ]
     },
     "execution_count": 84,
     "metadata": {},
     "output_type": "execute_result"
    }
   ],
   "source": [
    "func_q19()"
   ]
  },
  {
   "cell_type": "markdown",
   "metadata": {},
   "source": [
    "## Q20\n",
    "Define a class with a generator which can iterate the numbers, which are divisible by 7, between a given range 0 and n."
   ]
  },
  {
   "cell_type": "code",
   "execution_count": 100,
   "metadata": {},
   "outputs": [],
   "source": [
    "class Class_q20(object):\n",
    "    def __init__(self, n):\n",
    "        self.n = n\n",
    "        self.num = 0\n",
    "    def __iter__(self):\n",
    "        return self\n",
    "    def __next__(self):\n",
    "        return self.next()\n",
    "    def next(self):\n",
    "        while self.num < self.n:\n",
    "            cur = self.num\n",
    "            self.num += 1\n",
    "            if cur % 7 == 0:\n",
    "                return cur\n",
    "        raise StopIteration()"
   ]
  },
  {
   "cell_type": "code",
   "execution_count": 101,
   "metadata": {},
   "outputs": [],
   "source": [
    "def func_q20(n):\n",
    "    num = 0\n",
    "    while num < n:\n",
    "        if num % 7 == 0:\n",
    "            yield num\n",
    "        num += 1"
   ]
  },
  {
   "cell_type": "code",
   "execution_count": 104,
   "metadata": {},
   "outputs": [
    {
     "name": "stdout",
     "output_type": "stream",
     "text": [
      "0\n",
      "7\n",
      "14\n",
      "21\n",
      "28\n",
      "35\n",
      "42\n",
      "49\n",
      "56\n",
      "63\n",
      "70\n",
      "77\n",
      "84\n",
      "91\n",
      "98\n",
      "\n",
      "0\n",
      "7\n",
      "14\n",
      "21\n",
      "28\n",
      "35\n",
      "42\n",
      "49\n",
      "56\n",
      "63\n",
      "70\n",
      "77\n",
      "84\n",
      "91\n",
      "98\n"
     ]
    }
   ],
   "source": [
    "for i in Class_q20(100):\n",
    "    print(i)\n",
    "print()\n",
    "for i in func_q20(100):\n",
    "    print(i)"
   ]
  },
  {
   "cell_type": "markdown",
   "metadata": {},
   "source": [
    "## Q21\n",
    "A robot moves in a plane starting from the original point (0,0). The robot can move toward UP, DOWN, LEFT and RIGHT with a given steps. The trace of robot movement is shown as the following:\n",
    "- UP 5\n",
    "- DOWN 3\n",
    "- LEFT 3\n",
    "- RIGHT 2\n",
    "\n",
    "The numbers after the direction are steps. Please write a program to compute the distance from current position after a sequence of movement and original point. If the distance is a float, then just print the nearest integer.\n",
    "\n",
    "Example:\n",
    "\n",
    "If the following tuples are given as input to the program:\n",
    "- UP 5\n",
    "- DOWN 3\n",
    "- LEFT 3\n",
    "- RIGHT 2\n",
    "\n",
    "Then, the output of the program should be:\n",
    "- 2"
   ]
  },
  {
   "cell_type": "code",
   "execution_count": 123,
   "metadata": {},
   "outputs": [],
   "source": [
    "def func_q21():\n",
    "    class Robot(object):\n",
    "        def __init__(self):\n",
    "            self.x = 0\n",
    "            self.y = 0\n",
    "            self.command = dict(\n",
    "                UP = self.up,\n",
    "                DOWN = self.down,\n",
    "                LEFT = self.left,\n",
    "                RIGHT = self.right\n",
    "            )\n",
    "        def move(self, direction, steps):\n",
    "            self.command[direction](steps)\n",
    "        def up(self, steps):\n",
    "            self.y += steps\n",
    "        def down(self, steps):\n",
    "            self.y -= steps\n",
    "        def left(self, steps):\n",
    "            self.x -= steps\n",
    "        def right(self, steps):\n",
    "            self.x += steps\n",
    "        def dist(self):\n",
    "            res = round(math.sqrt(self.x * self.x + self.y * self.y))\n",
    "            return res\n",
    "    \n",
    "    robot = Robot()\n",
    "    while True:\n",
    "        s = input()\n",
    "        if not s:\n",
    "            break\n",
    "        l_s = s.split(' ')\n",
    "        robot.move(l_s[0], int(l_s[1]))\n",
    "    print(robot.dist())"
   ]
  },
  {
   "cell_type": "code",
   "execution_count": 124,
   "metadata": {},
   "outputs": [
    {
     "name": "stdout",
     "output_type": "stream",
     "text": [
      "UP 5\n",
      "DOWN 3\n",
      "LEFT 3\n",
      "RIGHT 2\n",
      "\n",
      "2\n"
     ]
    }
   ],
   "source": [
    "func_q21()"
   ]
  },
  {
   "cell_type": "code",
   "execution_count": null,
   "metadata": {},
   "outputs": [],
   "source": []
  }
 ],
 "metadata": {
  "kernelspec": {
   "display_name": "Python 3",
   "language": "python",
   "name": "python3"
  },
  "language_info": {
   "codemirror_mode": {
    "name": "ipython",
    "version": 3
   },
   "file_extension": ".py",
   "mimetype": "text/x-python",
   "name": "python",
   "nbconvert_exporter": "python",
   "pygments_lexer": "ipython3",
   "version": "3.6.5"
  }
 },
 "nbformat": 4,
 "nbformat_minor": 2
}
